{
 "cells": [
  {
   "cell_type": "code",
   "execution_count": 1,
   "metadata": {
    "colab": {
     "autoexec": {
      "startup": false,
      "wait_interval": 0
     }
    },
    "colab_type": "code",
    "id": "IrI9z_XRaWTm"
   },
   "outputs": [],
   "source": [
    "# # Code to read csv file into colaboratory:\n",
    "# !pip install -U -q PyDrive\n",
    "# from pydrive.auth import GoogleAuth\n",
    "# from pydrive.drive import GoogleDrive\n",
    "# from google.colab import auth\n",
    "# from oauth2client.client import GoogleCredentials\n",
    "\n",
    "# # 1. Authenticate and create the PyDrive client.\n",
    "# auth.authenticate_user()\n",
    "# gauth = GoogleAuth()\n",
    "# gauth.credentials = GoogleCredentials.get_application_default()\n",
    "# drive = GoogleDrive(gauth)"
   ]
  },
  {
   "cell_type": "code",
   "execution_count": 2,
   "metadata": {
    "colab": {
     "autoexec": {
      "startup": false,
      "wait_interval": 0
     }
    },
    "colab_type": "code",
    "id": "NFv_AadVaWQk"
   },
   "outputs": [],
   "source": [
    "# downloaded = drive.CreateFile({'id':'1iJosm1f9YPo6EFZlPvlU0SN4BvhJQIfR'}) \n",
    "# downloaded.GetContentFile('clean_sentences.csv')\n"
   ]
  },
  {
   "cell_type": "code",
   "execution_count": 3,
   "metadata": {},
   "outputs": [
    {
     "name": "stdout",
     "output_type": "stream",
     "text": [
      "Requirement already satisfied: sklearn in /home/ubuntu/anaconda3/envs/tensorflow_p36/lib/python3.6/site-packages\n",
      "Requirement already satisfied: scikit-learn in /home/ubuntu/anaconda3/envs/tensorflow_p36/lib/python3.6/site-packages (from sklearn)\n",
      "\u001b[33mYou are using pip version 9.0.1, however version 9.0.3 is available.\n",
      "You should consider upgrading via the 'pip install --upgrade pip' command.\u001b[0m\n"
     ]
    }
   ],
   "source": [
    "!pip install sklearn"
   ]
  },
  {
   "cell_type": "code",
   "execution_count": 72,
   "metadata": {
    "colab": {
     "autoexec": {
      "startup": false,
      "wait_interval": 0
     }
    },
    "colab_type": "code",
    "id": "15HyuFD4aTgO"
   },
   "outputs": [],
   "source": [
    "import pandas as pd\n",
    "import numpy as np\n",
    "import matplotlib.pyplot as plt\n",
    "\n",
    "import numpy as np\n",
    "\n",
    "\n",
    "from keras.models import Sequential, Model\n",
    "from keras.layers import Dense, Dropout, Flatten, Input, MaxPooling1D, Convolution1D, Embedding\n",
    "from keras.layers.merge import Concatenate\n",
    "from keras.datasets import imdb\n",
    "from keras.preprocessing import sequence\n",
    "from keras.preprocessing.text import Tokenizer\n",
    "from keras.models import Sequential\n",
    "from keras.preprocessing import sequence\n",
    "from keras.models import load_model\n",
    "\n",
    "\n",
    "from sklearn.cross_validation import train_test_split\n",
    "from sklearn.metrics import accuracy_score\n",
    "from sklearn.metrics import classification_report, confusion_matrix\n",
    "from sklearn.linear_model import LinearRegression\n",
    "from sklearn.feature_extraction.text import CountVectorizer\n",
    "from sklearn.pipeline import Pipeline\n",
    "\n",
    "\n",
    "from keras.preprocessing.text import Tokenizer\n",
    "from keras.preprocessing.sequence import pad_sequences\n",
    "from keras.utils import to_categorical\n",
    "from keras.layers import Dense, Input, GlobalMaxPooling1D\n",
    "from keras.layers import Conv1D, MaxPooling1D, Embedding\n",
    "from keras.models import Model\n",
    "from sklearn.preprocessing import Normalizer\n",
    "from sklearn.feature_extraction.text import TfidfVectorizer\n",
    "import pickle\n",
    "from sklearn.linear_model import LogisticRegression\n",
    "\n",
    "\n",
    "from keras.models import Sequential, Model\n",
    "from keras.layers import Dense, Dropout, Flatten, Input, MaxPooling1D, Convolution1D, Embedding\n",
    "from keras.layers.merge import Concatenate\n",
    "from keras.preprocessing import sequence\n",
    "\n",
    "import time\n",
    "import html\n",
    "from nltk.tokenize import WordPunctTokenizer\n",
    "import re\n",
    "\n",
    "np.random.seed(0)\n",
    "\n",
    "%matplotlib inline"
   ]
  },
  {
   "cell_type": "markdown",
   "metadata": {},
   "source": [
    "from keras.preprocessing import sequence\n",
    "Keras has provide very nice text processing functions.\n",
    "\n",
    "Then we can format our text samples and labels into tensors that can be fed into a neural network. To do this, we will rely on Keras utilities keras.preprocessing.text.Tokenizer and keras.preprocessing.sequence.pad_sequences."
   ]
  },
  {
   "cell_type": "code",
   "execution_count": 5,
   "metadata": {
    "colab": {
     "autoexec": {
      "startup": false,
      "wait_interval": 0
     }
    },
    "colab_type": "code",
    "id": "CE1EMXPgaTgW"
   },
   "outputs": [],
   "source": [
    "clean_data = pd.read_csv(\"clean_sentences.csv\")"
   ]
  },
  {
   "cell_type": "code",
   "execution_count": 6,
   "metadata": {
    "colab": {
     "autoexec": {
      "startup": false,
      "wait_interval": 0
     }
    },
    "colab_type": "code",
    "id": "Y6uAzWoBaTgc"
   },
   "outputs": [],
   "source": [
    "df = pd.DataFrame(clean_data)"
   ]
  },
  {
   "cell_type": "code",
   "execution_count": 7,
   "metadata": {
    "colab": {
     "autoexec": {
      "startup": false,
      "wait_interval": 0
     },
     "base_uri": "https://localhost:8080/",
     "height": 34,
     "output_extras": [
      {
       "item_id": 1
      }
     ]
    },
    "colab_type": "code",
    "executionInfo": {
     "elapsed": 241,
     "status": "ok",
     "timestamp": 1521866520799,
     "user": {
      "displayName": "donna alex",
      "photoUrl": "//lh6.googleusercontent.com/-H58kuq1ExZk/AAAAAAAAAAI/AAAAAAAAAzs/5lbOM0-qvzI/s50-c-k-no/photo.jpg",
      "userId": "115248177046208592333"
     },
     "user_tz": 420
    },
    "id": "F8msjw1saTgj",
    "outputId": "0a0eb78a-bfa1-4acb-8c10-4262b87b289a"
   },
   "outputs": [
    {
     "data": {
      "text/plain": [
       "(1600000, 2)"
      ]
     },
     "execution_count": 7,
     "metadata": {},
     "output_type": "execute_result"
    }
   ],
   "source": [
    "df.shape"
   ]
  },
  {
   "cell_type": "code",
   "execution_count": 8,
   "metadata": {
    "colab": {
     "autoexec": {
      "startup": false,
      "wait_interval": 0
     },
     "base_uri": "https://localhost:8080/",
     "height": 34,
     "output_extras": [
      {
       "item_id": 1
      }
     ]
    },
    "colab_type": "code",
    "executionInfo": {
     "elapsed": 252,
     "status": "ok",
     "timestamp": 1521866521505,
     "user": {
      "displayName": "donna alex",
      "photoUrl": "//lh6.googleusercontent.com/-H58kuq1ExZk/AAAAAAAAAAI/AAAAAAAAAzs/5lbOM0-qvzI/s50-c-k-no/photo.jpg",
      "userId": "115248177046208592333"
     },
     "user_tz": 420
    },
    "id": "8CJS94bDaTgx",
    "outputId": "eab176d8-1521-43e2-a7ea-7ecf26a3ec61"
   },
   "outputs": [
    {
     "data": {
      "text/plain": [
       "Index(['Sentences', 'Label'], dtype='object')"
      ]
     },
     "execution_count": 8,
     "metadata": {},
     "output_type": "execute_result"
    }
   ],
   "source": [
    "df.columns"
   ]
  },
  {
   "cell_type": "code",
   "execution_count": 9,
   "metadata": {
    "colab": {
     "autoexec": {
      "startup": false,
      "wait_interval": 0
     },
     "base_uri": "https://localhost:8080/",
     "height": 34,
     "output_extras": [
      {
       "item_id": 1
      }
     ]
    },
    "colab_type": "code",
    "executionInfo": {
     "elapsed": 383,
     "status": "ok",
     "timestamp": 1521866522125,
     "user": {
      "displayName": "donna alex",
      "photoUrl": "//lh6.googleusercontent.com/-H58kuq1ExZk/AAAAAAAAAAI/AAAAAAAAAzs/5lbOM0-qvzI/s50-c-k-no/photo.jpg",
      "userId": "115248177046208592333"
     },
     "user_tz": 420
    },
    "id": "BZ5QPeDkaTg7",
    "outputId": "592823a7-1147-48ff-e285-29818aa5d4e3"
   },
   "outputs": [
    {
     "data": {
      "text/plain": [
       "3373"
      ]
     },
     "execution_count": 9,
     "metadata": {},
     "output_type": "execute_result"
    }
   ],
   "source": [
    "np.sum(df.isnull().any(axis=1))"
   ]
  },
  {
   "cell_type": "code",
   "execution_count": 10,
   "metadata": {
    "colab": {
     "autoexec": {
      "startup": false,
      "wait_interval": 0
     },
     "base_uri": "https://localhost:8080/",
     "height": 204,
     "output_extras": [
      {
       "item_id": 1
      }
     ]
    },
    "colab_type": "code",
    "executionInfo": {
     "elapsed": 387,
     "status": "ok",
     "timestamp": 1521866522768,
     "user": {
      "displayName": "donna alex",
      "photoUrl": "//lh6.googleusercontent.com/-H58kuq1ExZk/AAAAAAAAAAI/AAAAAAAAAzs/5lbOM0-qvzI/s50-c-k-no/photo.jpg",
      "userId": "115248177046208592333"
     },
     "user_tz": 420
    },
    "id": "IT6T8NJpaThD",
    "outputId": "d4d70588-20c3-4ff7-ee44-02e78195bd57"
   },
   "outputs": [
    {
     "data": {
      "text/html": [
       "<div>\n",
       "<style scoped>\n",
       "    .dataframe tbody tr th:only-of-type {\n",
       "        vertical-align: middle;\n",
       "    }\n",
       "\n",
       "    .dataframe tbody tr th {\n",
       "        vertical-align: top;\n",
       "    }\n",
       "\n",
       "    .dataframe thead th {\n",
       "        text-align: right;\n",
       "    }\n",
       "</style>\n",
       "<table border=\"1\" class=\"dataframe\">\n",
       "  <thead>\n",
       "    <tr style=\"text-align: right;\">\n",
       "      <th></th>\n",
       "      <th>Sentences</th>\n",
       "      <th>Label</th>\n",
       "    </tr>\n",
       "  </thead>\n",
       "  <tbody>\n",
       "    <tr>\n",
       "      <th>208</th>\n",
       "      <td>NaN</td>\n",
       "      <td>0</td>\n",
       "    </tr>\n",
       "    <tr>\n",
       "      <th>249</th>\n",
       "      <td>NaN</td>\n",
       "      <td>0</td>\n",
       "    </tr>\n",
       "    <tr>\n",
       "      <th>398</th>\n",
       "      <td>NaN</td>\n",
       "      <td>0</td>\n",
       "    </tr>\n",
       "    <tr>\n",
       "      <th>430</th>\n",
       "      <td>NaN</td>\n",
       "      <td>0</td>\n",
       "    </tr>\n",
       "    <tr>\n",
       "      <th>1011</th>\n",
       "      <td>NaN</td>\n",
       "      <td>0</td>\n",
       "    </tr>\n",
       "  </tbody>\n",
       "</table>\n",
       "</div>"
      ],
      "text/plain": [
       "     Sentences  Label\n",
       "208        NaN      0\n",
       "249        NaN      0\n",
       "398        NaN      0\n",
       "430        NaN      0\n",
       "1011       NaN      0"
      ]
     },
     "execution_count": 10,
     "metadata": {},
     "output_type": "execute_result"
    }
   ],
   "source": [
    "df[df.isnull().any(axis=1)].head()"
   ]
  },
  {
   "cell_type": "code",
   "execution_count": 11,
   "metadata": {
    "colab": {
     "autoexec": {
      "startup": false,
      "wait_interval": 0
     }
    },
    "colab_type": "code",
    "id": "I3aeR4PYaThM"
   },
   "outputs": [],
   "source": [
    "df = df.dropna()"
   ]
  },
  {
   "cell_type": "code",
   "execution_count": 12,
   "metadata": {
    "colab": {
     "autoexec": {
      "startup": false,
      "wait_interval": 0
     },
     "base_uri": "https://localhost:8080/",
     "height": 34,
     "output_extras": [
      {
       "item_id": 1
      }
     ]
    },
    "colab_type": "code",
    "executionInfo": {
     "elapsed": 277,
     "status": "ok",
     "timestamp": 1521866524055,
     "user": {
      "displayName": "donna alex",
      "photoUrl": "//lh6.googleusercontent.com/-H58kuq1ExZk/AAAAAAAAAAI/AAAAAAAAAzs/5lbOM0-qvzI/s50-c-k-no/photo.jpg",
      "userId": "115248177046208592333"
     },
     "user_tz": 420
    },
    "id": "z2IXlh6raThS",
    "outputId": "c512fee0-099f-408a-da9d-f1b9880f5997"
   },
   "outputs": [
    {
     "data": {
      "text/plain": [
       "(1596627, 2)"
      ]
     },
     "execution_count": 12,
     "metadata": {},
     "output_type": "execute_result"
    }
   ],
   "source": [
    "df.shape"
   ]
  },
  {
   "cell_type": "code",
   "execution_count": 13,
   "metadata": {
    "colab": {
     "autoexec": {
      "startup": false,
      "wait_interval": 0
     },
     "base_uri": "https://localhost:8080/",
     "height": 34,
     "output_extras": [
      {
       "item_id": 1
      }
     ]
    },
    "colab_type": "code",
    "executionInfo": {
     "elapsed": 403,
     "status": "ok",
     "timestamp": 1521866524697,
     "user": {
      "displayName": "donna alex",
      "photoUrl": "//lh6.googleusercontent.com/-H58kuq1ExZk/AAAAAAAAAAI/AAAAAAAAAzs/5lbOM0-qvzI/s50-c-k-no/photo.jpg",
      "userId": "115248177046208592333"
     },
     "user_tz": 420
    },
    "id": "Uop9RhMBaThd",
    "outputId": "86e80b72-6963-484d-c11f-d1dd8b7c4b2e"
   },
   "outputs": [
    {
     "data": {
      "text/plain": [
       "0"
      ]
     },
     "execution_count": 13,
     "metadata": {},
     "output_type": "execute_result"
    }
   ],
   "source": [
    "np.sum(df.isnull().any(axis=1))"
   ]
  },
  {
   "cell_type": "code",
   "execution_count": 14,
   "metadata": {
    "colab": {
     "autoexec": {
      "startup": false,
      "wait_interval": 0
     },
     "base_uri": "https://localhost:8080/",
     "height": 68,
     "output_extras": [
      {
       "item_id": 1
      }
     ]
    },
    "colab_type": "code",
    "executionInfo": {
     "elapsed": 268,
     "status": "ok",
     "timestamp": 1521866525212,
     "user": {
      "displayName": "donna alex",
      "photoUrl": "//lh6.googleusercontent.com/-H58kuq1ExZk/AAAAAAAAAAI/AAAAAAAAAzs/5lbOM0-qvzI/s50-c-k-no/photo.jpg",
      "userId": "115248177046208592333"
     },
     "user_tz": 420
    },
    "id": "37dot_gfaTho",
    "outputId": "ea9232e1-8be2-4ea4-f94b-8f7e6aee8de2"
   },
   "outputs": [
    {
     "data": {
      "text/plain": [
       "0    798467\n",
       "1    798160\n",
       "Name: Label, dtype: int64"
      ]
     },
     "execution_count": 14,
     "metadata": {},
     "output_type": "execute_result"
    }
   ],
   "source": [
    "df[\"Label\"].value_counts()"
   ]
  },
  {
   "cell_type": "code",
   "execution_count": 15,
   "metadata": {
    "colab": {
     "autoexec": {
      "startup": false,
      "wait_interval": 0
     },
     "base_uri": "https://localhost:8080/",
     "height": 204,
     "output_extras": [
      {
       "item_id": 1
      }
     ]
    },
    "colab_type": "code",
    "executionInfo": {
     "elapsed": 266,
     "status": "ok",
     "timestamp": 1521866525743,
     "user": {
      "displayName": "donna alex",
      "photoUrl": "//lh6.googleusercontent.com/-H58kuq1ExZk/AAAAAAAAAAI/AAAAAAAAAzs/5lbOM0-qvzI/s50-c-k-no/photo.jpg",
      "userId": "115248177046208592333"
     },
     "user_tz": 420
    },
    "id": "sWfnFEoOaThz",
    "outputId": "2b468d2f-1dca-4a48-ed9a-592b2c599f38"
   },
   "outputs": [
    {
     "data": {
      "text/html": [
       "<div>\n",
       "<style scoped>\n",
       "    .dataframe tbody tr th:only-of-type {\n",
       "        vertical-align: middle;\n",
       "    }\n",
       "\n",
       "    .dataframe tbody tr th {\n",
       "        vertical-align: top;\n",
       "    }\n",
       "\n",
       "    .dataframe thead th {\n",
       "        text-align: right;\n",
       "    }\n",
       "</style>\n",
       "<table border=\"1\" class=\"dataframe\">\n",
       "  <thead>\n",
       "    <tr style=\"text-align: right;\">\n",
       "      <th></th>\n",
       "      <th>Sentences</th>\n",
       "      <th>Label</th>\n",
       "    </tr>\n",
       "  </thead>\n",
       "  <tbody>\n",
       "    <tr>\n",
       "      <th>0</th>\n",
       "      <td>awww that bummer you shoulda got david carr of...</td>\n",
       "      <td>0</td>\n",
       "    </tr>\n",
       "    <tr>\n",
       "      <th>1</th>\n",
       "      <td>is upset that he can not update his facebook b...</td>\n",
       "      <td>0</td>\n",
       "    </tr>\n",
       "    <tr>\n",
       "      <th>2</th>\n",
       "      <td>dived many times for the ball managed to save ...</td>\n",
       "      <td>0</td>\n",
       "    </tr>\n",
       "    <tr>\n",
       "      <th>3</th>\n",
       "      <td>my whole body feels itchy and like its on fire</td>\n",
       "      <td>0</td>\n",
       "    </tr>\n",
       "    <tr>\n",
       "      <th>4</th>\n",
       "      <td>no it not behaving at all mad why am here beca...</td>\n",
       "      <td>0</td>\n",
       "    </tr>\n",
       "  </tbody>\n",
       "</table>\n",
       "</div>"
      ],
      "text/plain": [
       "                                           Sentences  Label\n",
       "0  awww that bummer you shoulda got david carr of...      0\n",
       "1  is upset that he can not update his facebook b...      0\n",
       "2  dived many times for the ball managed to save ...      0\n",
       "3     my whole body feels itchy and like its on fire      0\n",
       "4  no it not behaving at all mad why am here beca...      0"
      ]
     },
     "execution_count": 15,
     "metadata": {},
     "output_type": "execute_result"
    }
   ],
   "source": [
    "df.head()"
   ]
  },
  {
   "cell_type": "code",
   "execution_count": 16,
   "metadata": {},
   "outputs": [
    {
     "data": {
      "text/plain": [
       "'is upset that he can not update his facebook by texting it and might cry as result school today also blah'"
      ]
     },
     "execution_count": 16,
     "metadata": {},
     "output_type": "execute_result"
    }
   ],
   "source": [
    "df[\"Sentences\"][1]"
   ]
  },
  {
   "cell_type": "code",
   "execution_count": 17,
   "metadata": {
    "colab": {
     "autoexec": {
      "startup": false,
      "wait_interval": 0
     },
     "base_uri": "https://localhost:8080/",
     "height": 68,
     "output_extras": [
      {
       "item_id": 1
      }
     ]
    },
    "colab_type": "code",
    "executionInfo": {
     "elapsed": 258,
     "status": "ok",
     "timestamp": 1521866526300,
     "user": {
      "displayName": "donna alex",
      "photoUrl": "//lh6.googleusercontent.com/-H58kuq1ExZk/AAAAAAAAAAI/AAAAAAAAAzs/5lbOM0-qvzI/s50-c-k-no/photo.jpg",
      "userId": "115248177046208592333"
     },
     "user_tz": 420
    },
    "id": "FpDCsNViaTh9",
    "outputId": "7e578d6e-7e6a-4acd-9d91-988837ded443"
   },
   "outputs": [
    {
     "data": {
      "text/plain": [
       "0    798467\n",
       "1    798160\n",
       "Name: Label, dtype: int64"
      ]
     },
     "execution_count": 17,
     "metadata": {},
     "output_type": "execute_result"
    }
   ],
   "source": [
    "df[\"Label\"].value_counts()"
   ]
  },
  {
   "cell_type": "code",
   "execution_count": 18,
   "metadata": {
    "colab": {
     "autoexec": {
      "startup": false,
      "wait_interval": 0
     }
    },
    "colab_type": "code",
    "id": "_TT_BCjeaTiG"
   },
   "outputs": [],
   "source": [
    "X = df[\"Sentences\"]\n",
    "y = df[\"Label\"]"
   ]
  },
  {
   "cell_type": "code",
   "execution_count": 19,
   "metadata": {
    "colab": {
     "autoexec": {
      "startup": false,
      "wait_interval": 0
     },
     "base_uri": "https://localhost:8080/",
     "height": 68,
     "output_extras": [
      {
       "item_id": 1
      }
     ]
    },
    "colab_type": "code",
    "executionInfo": {
     "elapsed": 271,
     "status": "ok",
     "timestamp": 1521866528902,
     "user": {
      "displayName": "donna alex",
      "photoUrl": "//lh6.googleusercontent.com/-H58kuq1ExZk/AAAAAAAAAAI/AAAAAAAAAzs/5lbOM0-qvzI/s50-c-k-no/photo.jpg",
      "userId": "115248177046208592333"
     },
     "user_tz": 420
    },
    "id": "2LpCZMiUaTiW",
    "outputId": "45b49fa9-dd70-461f-819f-ab90b0b81d22"
   },
   "outputs": [
    {
     "name": "stdout",
     "output_type": "stream",
     "text": [
      "Training data: \n",
      "(1596627,)\n",
      "(1596627,)\n"
     ]
    }
   ],
   "source": [
    "print(\"Training data: \")\n",
    "print(X.shape)\n",
    "print(y.shape)"
   ]
  },
  {
   "cell_type": "code",
   "execution_count": 20,
   "metadata": {
    "colab": {
     "autoexec": {
      "startup": false,
      "wait_interval": 0
     },
     "base_uri": "https://localhost:8080/",
     "height": 51,
     "output_extras": [
      {
       "item_id": 1
      }
     ]
    },
    "colab_type": "code",
    "executionInfo": {
     "elapsed": 342,
     "status": "ok",
     "timestamp": 1521866529472,
     "user": {
      "displayName": "donna alex",
      "photoUrl": "//lh6.googleusercontent.com/-H58kuq1ExZk/AAAAAAAAAAI/AAAAAAAAAzs/5lbOM0-qvzI/s50-c-k-no/photo.jpg",
      "userId": "115248177046208592333"
     },
     "user_tz": 420
    },
    "id": "PylbAcp1aTih",
    "outputId": "b91255a5-dad7-491f-95c8-4e6c09ead763"
   },
   "outputs": [
    {
     "name": "stdout",
     "output_type": "stream",
     "text": [
      "no. of classes :\n",
      "[0 1]\n"
     ]
    }
   ],
   "source": [
    "print(\"no. of classes :\")\n",
    "print(np.unique(y))"
   ]
  },
  {
   "cell_type": "code",
   "execution_count": 21,
   "metadata": {
    "colab": {
     "autoexec": {
      "startup": false,
      "wait_interval": 0
     },
     "base_uri": "https://localhost:8080/",
     "height": 51,
     "output_extras": [
      {
       "item_id": 2
      }
     ]
    },
    "colab_type": "code",
    "executionInfo": {
     "elapsed": 11256,
     "status": "ok",
     "timestamp": 1521866540970,
     "user": {
      "displayName": "donna alex",
      "photoUrl": "//lh6.googleusercontent.com/-H58kuq1ExZk/AAAAAAAAAAI/AAAAAAAAAzs/5lbOM0-qvzI/s50-c-k-no/photo.jpg",
      "userId": "115248177046208592333"
     },
     "user_tz": 420
    },
    "id": "MUnfeeZUaTiq",
    "outputId": "aead7466-d8ef-445c-aa4f-bd3e24921648"
   },
   "outputs": [
    {
     "name": "stdout",
     "output_type": "stream",
     "text": [
      "Number of words: \n",
      "1519745\n"
     ]
    }
   ],
   "source": [
    "# Summarize number of words\n",
    "print(\"Number of words: \")\n",
    "print(len(np.unique(np.hstack(X))))"
   ]
  },
  {
   "cell_type": "code",
   "execution_count": 22,
   "metadata": {
    "colab": {
     "autoexec": {
      "startup": false,
      "wait_interval": 0
     },
     "base_uri": "https://localhost:8080/",
     "height": 299,
     "output_extras": [
      {
       "item_id": 2
      },
      {
       "item_id": 3
      }
     ]
    },
    "colab_type": "code",
    "executionInfo": {
     "elapsed": 1061,
     "status": "ok",
     "timestamp": 1521866542078,
     "user": {
      "displayName": "donna alex",
      "photoUrl": "//lh6.googleusercontent.com/-H58kuq1ExZk/AAAAAAAAAAI/AAAAAAAAAzs/5lbOM0-qvzI/s50-c-k-no/photo.jpg",
      "userId": "115248177046208592333"
     },
     "user_tz": 420
    },
    "id": "NgIdslQNaTiz",
    "outputId": "635d0735-9024-4ec7-ebe1-5c7c5f3ce4de"
   },
   "outputs": [
    {
     "name": "stdout",
     "output_type": "stream",
     "text": [
      "Sentence length: \n",
      "Mean 60.23 words (32.842545)\n"
     ]
    },
    {
     "data": {
      "image/png": "[encoded data removed]",
      "text/plain": [
       "<matplotlib.figure.Figure at 0x7f2283ddff98>"
      ]
     },
     "metadata": {},
     "output_type": "display_data"
    }
   ],
   "source": [
    "# Summarize sentence length\n",
    "print(\"Sentence length: \")\n",
    "result = [len(x) for x in X]\n",
    "print(\"Mean %.2f words (%f)\" % (np.mean(result), np.std(result)))\n",
    "# plot review length\n",
    "plt.boxplot(result)\n",
    "plt.show()"
   ]
  },
  {
   "cell_type": "code",
   "execution_count": 24,
   "metadata": {},
   "outputs": [],
   "source": [
    "df = df.dropna()"
   ]
  },
  {
   "cell_type": "code",
   "execution_count": 25,
   "metadata": {},
   "outputs": [],
   "source": [
    "x = df[\"Sentences\"]\n",
    "y = df[\"Label\"]"
   ]
  },
  {
   "cell_type": "code",
   "execution_count": 26,
   "metadata": {},
   "outputs": [],
   "source": [
    "x_train, x_validation_and_test, y_train, y_validation_and_test = train_test_split(x, y, test_size=.02, random_state=42)\n",
    "x_validation, x_test, y_validation, y_test = train_test_split(x_validation_and_test, y_validation_and_test, test_size=.5, random_state=42)"
   ]
  },
  {
   "cell_type": "code",
   "execution_count": 27,
   "metadata": {},
   "outputs": [
    {
     "data": {
      "text/plain": [
       "TfidfVectorizer(analyzer='word', binary=False, decode_error='strict',\n",
       "        dtype=<class 'numpy.int64'>, encoding='utf-8', input='content',\n",
       "        lowercase=True, max_df=1.0, max_features=100000, min_df=1,\n",
       "        ngram_range=(1, 3), norm='l2', preprocessor=None, smooth_idf=True,\n",
       "        stop_words=None, strip_accents=None, sublinear_tf=False,\n",
       "        token_pattern='(?u)\\\\b\\\\w\\\\w+\\\\b', tokenizer=None, use_idf=True,\n",
       "        vocabulary=None)"
      ]
     },
     "execution_count": 27,
     "metadata": {},
     "output_type": "execute_result"
    }
   ],
   "source": [
    "tvec1 = TfidfVectorizer(max_features=100000,ngram_range=(1, 3))\n",
    "tvec1.fit(x_train)"
   ]
  },
  {
   "cell_type": "code",
   "execution_count": 74,
   "metadata": {},
   "outputs": [],
   "source": [
    "#store the TfidfVectorizer\n",
    "with open(\"tfidf_result_2.pkl\", 'wb') as handle:\n",
    "                    pickle.dump(tvec1, handle)\n"
   ]
  },
  {
   "cell_type": "code",
   "execution_count": 29,
   "metadata": {},
   "outputs": [],
   "source": [
    "x_train_tfidf = tvec1.transform(x_train)"
   ]
  },
  {
   "cell_type": "code",
   "execution_count": 30,
   "metadata": {},
   "outputs": [
    {
     "data": {
      "text/plain": [
       "<1564694x100000 sparse matrix of type '<class 'numpy.float64'>'\n",
       "\twith 29876579 stored elements in Compressed Sparse Row format>"
      ]
     },
     "execution_count": 30,
     "metadata": {},
     "output_type": "execute_result"
    }
   ],
   "source": [
    "x_train_tfidf"
   ]
  },
  {
   "cell_type": "code",
   "execution_count": 31,
   "metadata": {},
   "outputs": [],
   "source": [
    "x_validation_tfidf = tvec1.transform(x_validation).toarray()\n"
   ]
  },
  {
   "cell_type": "code",
   "execution_count": 32,
   "metadata": {},
   "outputs": [
    {
     "data": {
      "text/plain": [
       "LogisticRegression(C=1.0, class_weight=None, dual=False, fit_intercept=True,\n",
       "          intercept_scaling=1, max_iter=100, multi_class='ovr', n_jobs=1,\n",
       "          penalty='l2', random_state=None, solver='liblinear', tol=0.0001,\n",
       "          verbose=0, warm_start=False)"
      ]
     },
     "execution_count": 32,
     "metadata": {},
     "output_type": "execute_result"
    }
   ],
   "source": [
    "clf = LogisticRegression()\n",
    "clf.fit(x_train_tfidf, y_train)"
   ]
  },
  {
   "cell_type": "code",
   "execution_count": 33,
   "metadata": {},
   "outputs": [],
   "source": [
    "# y_train"
   ]
  },
  {
   "cell_type": "code",
   "execution_count": 34,
   "metadata": {},
   "outputs": [
    {
     "data": {
      "text/plain": [
       "0.8207440811724915"
      ]
     },
     "execution_count": 34,
     "metadata": {},
     "output_type": "execute_result"
    }
   ],
   "source": [
    "clf.score(x_validation_tfidf, y_validation)"
   ]
  },
  {
   "cell_type": "code",
   "execution_count": 35,
   "metadata": {},
   "outputs": [
    {
     "data": {
      "text/plain": [
       "0.8419857173351467"
      ]
     },
     "execution_count": 35,
     "metadata": {},
     "output_type": "execute_result"
    }
   ],
   "source": [
    "clf.score(x_train_tfidf, y_train)"
   ]
  },
  {
   "cell_type": "code",
   "execution_count": 36,
   "metadata": {},
   "outputs": [],
   "source": [
    "norm = Normalizer().fit(x_train_tfidf)\n",
    "x_train_tfidf_norm = norm.transform(x_train_tfidf)\n",
    "x_validation_tfidf_norm = norm.transform(x_validation_tfidf)"
   ]
  },
  {
   "cell_type": "code",
   "execution_count": 37,
   "metadata": {},
   "outputs": [],
   "source": [
    "def batch_generator(X_data, y_data, batch_size):\n",
    "    samples_per_epoch = X_data.shape[0]\n",
    "    number_of_batches = samples_per_epoch/batch_size\n",
    "    counter=0\n",
    "    index = np.arange(np.shape(y_data)[0])\n",
    "    np.random.shuffle(index)\n",
    "    while 1:\n",
    "        index_batch = index[batch_size*counter:batch_size*(counter+1)]\n",
    "        X_batch = X_data[index_batch,:].toarray()\n",
    "        y_batch = y_data[y_data.index[index_batch]]\n",
    "        counter += 1\n",
    "        yield X_batch,y_batch\n",
    "        if (counter > number_of_batches):\n",
    "            np.random.shuffle(index)\n",
    "            counter=0"
   ]
  },
  {
   "cell_type": "code",
   "execution_count": 38,
   "metadata": {},
   "outputs": [
    {
     "data": {
      "text/plain": [
       "1564694"
      ]
     },
     "execution_count": 38,
     "metadata": {},
     "output_type": "execute_result"
    }
   ],
   "source": [
    "x_train_tfidf.shape[0]"
   ]
  },
  {
   "cell_type": "code",
   "execution_count": 39,
   "metadata": {},
   "outputs": [
    {
     "data": {
      "text/plain": [
       "48896.6875"
      ]
     },
     "execution_count": 39,
     "metadata": {},
     "output_type": "execute_result"
    }
   ],
   "source": [
    "1564694/32"
   ]
  },
  {
   "cell_type": "code",
   "execution_count": 40,
   "metadata": {},
   "outputs": [
    {
     "data": {
      "text/plain": [
       "array([      0,       1,       2, ..., 1564691, 1564692, 1564693])"
      ]
     },
     "execution_count": 40,
     "metadata": {},
     "output_type": "execute_result"
    }
   ],
   "source": [
    "np.arange(np.shape(y_train)[0])"
   ]
  },
  {
   "cell_type": "code",
   "execution_count": 41,
   "metadata": {},
   "outputs": [
    {
     "data": {
      "text/plain": [
       "scipy.sparse.csr.csr_matrix"
      ]
     },
     "execution_count": 41,
     "metadata": {},
     "output_type": "execute_result"
    }
   ],
   "source": [
    "type(x_train_tfidf)"
   ]
  },
  {
   "cell_type": "markdown",
   "metadata": {},
   "source": [
    "## Tetsing model accuracy and validation loss"
   ]
  },
  {
   "cell_type": "code",
   "execution_count": 42,
   "metadata": {},
   "outputs": [],
   "source": [
    "# %%time\n",
    "# # custom_adam = keras.optimizers.Adam(lr=0.001, beta_1=0.9, beta_2=0.999, epsilon=1e-8)\n",
    "\n",
    "# from keras import optimizers\n",
    "\n",
    "# custom_adam = optimizers.Adam(lr=0.001, beta_1=0.9, beta_2=0.999, epsilon=1e-8)\n",
    "# model = Sequential()\n",
    "# model.add(Dense(64, activation='relu', input_dim=100000))\n",
    "# model.add(Dense(1, activation='sigmoid'))\n",
    "# model.compile(optimizer='adam',\n",
    "#               loss='binary_crossentropy',\n",
    "#               metrics=['accuracy'])\n",
    "\n",
    "# history = model.fit_generator(generator=batch_generator(x_train_tfidf, y_train, 32),\n",
    "#                     epochs=5, validation_data=(x_validation_tfidf, y_validation),\n",
    "#                     steps_per_epoch=x_train_tfidf.shape[0]/32)"
   ]
  },
  {
   "cell_type": "code",
   "execution_count": 43,
   "metadata": {},
   "outputs": [],
   "source": [
    "# %%time\n",
    "# from keras import optimizers\n",
    "# custom_adam = optimizers.Adam(lr=0.0005, beta_1=0.9, beta_2=0.999, epsilon=1e-8)\n",
    "# model = Sequential()\n",
    "# model.add(Dense(128, activation='relu', input_dim=100000))\n",
    "# model.add(Dropout(0.2))\n",
    "# model.add(Dense(1, activation='sigmoid'))\n",
    "# model.compile(optimizer='adam',\n",
    "#               loss='binary_crossentropy',\n",
    "#               metrics=['accuracy'])\n",
    "\n",
    "# history = model.fit_generator(generator=batch_generator(x_train_tfidf, y_train, 32),\n",
    "#                     epochs=2, validation_data=(x_validation_tfidf, y_validation),\n",
    "#                     steps_per_epoch=x_train_tfidf.shape[0]/32)\n",
    "\n",
    "# Epoch 1/2\n",
    "# 48897/48896 [==============================] - 1222s 25ms/step - loss: 0.4094 - acc: 0.8139 - val_loss: 0.3901 - val_acc: 0.8264\n",
    "# Epoch 2/2\n",
    "# 48897/48896 [==============================] - 1220s 25ms/step - loss: 0.3753 - acc: 0.8341 - val_loss: 0.3909 - val_acc: 0.8281\n",
    "# CPU times: user 45min 41s, sys: 9min 53s, total: 55min 34s\n",
    "# Wall time: 40min 43s"
   ]
  },
  {
   "cell_type": "code",
   "execution_count": 44,
   "metadata": {},
   "outputs": [],
   "source": [
    "# %%time\n",
    "# model_s = Sequential()\n",
    "# model_s.add(Dense(128, activation='relu', input_dim=100000))\n",
    "# model_s.add(Dense(1, activation='sigmoid'))\n",
    "# model_s.compile(optimizer='adam',\n",
    "#               loss='binary_crossentropy',\n",
    "#               metrics=['accuracy'])\n",
    "\n",
    "# history_s = model_s.fit_generator(generator=batch_generator(x_train_tfidf, y_train, 32),\n",
    "#                     epochs=2, validation_data=(x_validation_tfidf, y_validation),\n",
    "#                     steps_per_epoch=x_train_tfidf.shape[0]/32)\n",
    "\n",
    "\n",
    "# Epoch 1/2\n",
    "# 48897/48896 [==============================] - 1206s 25ms/step - loss: 0.4085 - acc: 0.8137 - val_loss: 0.3884 - val_acc: 0.8283\n",
    "# Epoch 2/2\n",
    "# 48897/48896 [==============================] - 1206s 25ms/step - loss: 0.3719 - acc: 0.8353 - val_loss: 0.3883 - val_acc: 0.8281\n",
    "# CPU times: user 45min 9s, sys: 9min 38s, total: 54min 48s\n",
    "# Wall time: 40min 13s\n"
   ]
  },
  {
   "cell_type": "code",
   "execution_count": 45,
   "metadata": {},
   "outputs": [],
   "source": [
    "# %%time\n",
    "# model_s = Sequential()\n",
    "# model_s.add(Dense(128, activation='relu', input_dim=100000))\n",
    "# model_s.add(Dense(1, activation='sigmoid'))\n",
    "# model_s.compile(optimizer='adam',\n",
    "#               loss='binary_crossentropy',\n",
    "#               metrics=['accuracy'])\n",
    "\n",
    "# history_s = model_s.fit_generator(generator=batch_generator(x_train_tfidf, y_train, 32),\n",
    "#                     epochs=3, validation_data=(x_validation_tfidf, y_validation),\n",
    "#                     steps_per_epoch=x_train_tfidf.shape[0]/32)\n",
    "\n",
    "\n",
    "# Epoch 1/3\n",
    "# 48897/48896 [==============================] - 1210s 25ms/step - loss: 0.4085 - acc: 0.8138 - val_loss: 0.3882 - val_acc: 0.8284\n",
    "# Epoch 2/3\n",
    "# 48897/48896 [==============================] - 1209s 25ms/step - loss: 0.3716 - acc: 0.8356 - val_loss: 0.3882 - val_acc: 0.8269\n",
    "# Epoch 3/3\n",
    "# 48897/48896 [==============================] - 1209s 25ms/step - loss: 0.3601 - acc: 0.8427 - val_loss: 0.3940 - val_acc: 0.8271\n",
    "# CPU times: user 1h 7min 49s, sys: 14min 27s, total: 1h 22min 17s\n",
    "# Wall time: 1h 29s"
   ]
  },
  {
   "cell_type": "code",
   "execution_count": 46,
   "metadata": {},
   "outputs": [],
   "source": [
    "# %%time\n",
    "# model_s = Sequential()\n",
    "# model_s.add(Dense(150, activation='relu', input_dim=100000))\n",
    "# model_s.add(Dense(62, activation='relu'))\n",
    "# model_s.add(Dense(1, activation='sigmoid'))\n",
    "# model_s.compile(optimizer='adam',\n",
    "#               loss='binary_crossentropy',\n",
    "#               metrics=['accuracy'])\n",
    "\n",
    "# history_s = model_s.fit_generator(generator=batch_generator(x_train_tfidf, y_train, 32),\n",
    "#                     epochs=3, validation_data=(x_validation_tfidf, y_validation),\n",
    "#                     steps_per_epoch=x_train_tfidf.shape[0]/32)\n",
    "\n",
    "# Epoch 1/3\n",
    "# 48897/48896 [==============================] - 1385s 28ms/step - loss: 0.4079 - acc: 0.8143 - val_loss: 0.3879 - val_acc: 0.8278\n",
    "# Epoch 2/3\n",
    "# 48897/48896 [==============================] - 1376s 28ms/step - loss: 0.3590 - acc: 0.8434 - val_loss: 0.3867 - val_acc: 0.8275\n",
    "# Epoch 3/3\n",
    "# 48897/48896 [==============================] - 1376s 28ms/step - loss: 0.3121 - acc: 0.8723 - val_loss: 0.4090 - val_acc: 0.8240\n",
    "# CPU times: user 1h 13min 56s, sys: 16min 40s, total: 1h 30min 37s\n",
    "# Wall time: 1h 8min 58s"
   ]
  },
  {
   "cell_type": "code",
   "execution_count": 47,
   "metadata": {},
   "outputs": [],
   "source": [
    "# %%time\n",
    "# model = Sequential()\n",
    "# model.add(Dense(250, activation='relu', input_dim=100000))\n",
    "# model.add(Dense(12, activation='relu'))\n",
    "# model.add(Dense(1, activation='sigmoid'))\n",
    "# model.compile(optimizer='adam',\n",
    "#               loss='binary_crossentropy',\n",
    "#               metrics=['accuracy'])\n",
    "\n",
    "# history = model.fit_generator(generator=batch_generator(x_train_tfidf, y_train, 32),\n",
    "#                     epochs=3, validation_data=(x_validation_tfidf, y_validation),\n",
    "#                     steps_per_epoch=x_train_tfidf.shape[0]/32)\n",
    "\n",
    "# Epoch 1/3\n",
    "# 48897/48896 [==============================] - 2080s 43ms/step - loss: 0.4084 - acc: 0.8137 - val_loss: 0.3965 - val_acc: 0.8199\n",
    "# Epoch 2/3\n",
    "# 48897/48896 [==============================] - 2077s 42ms/step - loss: 0.3586 - acc: 0.8445 - val_loss: 0.4009 - val_acc: 0.8212\n",
    "# Epoch 3/3\n",
    "#  1178/48896 [..............................] - ETA: 33:39 - loss: 0.3000 - acc: 0.8808"
   ]
  },
  {
   "cell_type": "code",
   "execution_count": 48,
   "metadata": {},
   "outputs": [],
   "source": [
    "# %%time\n",
    "# model = Sequential()\n",
    "# model.add(Dense(200, activation='relu', input_dim=100000))\n",
    "# model.add(Dense(100, activation='relu'))\n",
    "# model.add(Dropout(0.5))\n",
    "# model.add(Dense(50, activation='relu'))\n",
    "# model.add(Dense(10, activation='relu'))\n",
    "# model.add(Dense(1, activation='sigmoid'))\n",
    "# model.compile(optimizer='adam',\n",
    "#               loss='binary_crossentropy',\n",
    "#               metrics=['accuracy'])\n",
    "\n",
    "# history = model_s.fit_generator(generator=batch_generator(x_train_tfidf, y_train, 32),\n",
    "#                     epochs=3, validation_data=(x_validation_tfidf, y_validation),\n",
    "#                     steps_per_epoch=x_train_tfidf.shape[0]/32)\n",
    "\n",
    "# Epoch 1/3\n",
    "# 48897/48896 [==============================] - 1724s 35ms/step - loss: 0.4120 - acc: 0.8132 - val_loss: 0.3998 - val_acc: 0.8268\n",
    "# Epoch 2/3\n",
    "# 48897/48896 [==============================] - 1715s 35ms/step - loss: 0.3643 - acc: 0.8415 - val_loss: 0.3902 - val_acc: 0.8276\n",
    "# Epoch 3/3\n",
    "# 48897/48896 [==============================] - 1717s 35ms/step - loss: 0.3259 - acc: 0.8674 - val_loss: 0.3952 - val_acc: 0.8238\n",
    "# CPU times: user 1h 25min 8s, sys: 20min 55s, total: 1h 46min 4s\n",
    "# Wall time: 1h 25min 57s"
   ]
  },
  {
   "cell_type": "code",
   "execution_count": 51,
   "metadata": {},
   "outputs": [
    {
     "name": "stdout",
     "output_type": "stream",
     "text": [
      "Epoch 1/2\n",
      "48897/48896 [==============================] - 1818s 37ms/step - loss: 0.4118 - acc: 0.8128 - val_loss: 0.4103 - val_acc: 0.8188\n",
      "Epoch 2/2\n",
      "48897/48896 [==============================] - 1816s 37ms/step - loss: 0.3659 - acc: 0.8398 - val_loss: 0.4000 - val_acc: 0.8212\n",
      "CPU times: user 58min 23s, sys: 15min 21s, total: 1h 13min 44s\n",
      "Wall time: 1h 35s\n"
     ]
    }
   ],
   "source": [
    "%%time\n",
    "model = Sequential()\n",
    "model.add(Dense(200, activation='relu', input_dim=100000))\n",
    "model.add(Dense(100, activation='relu'))\n",
    "model.add(Dropout(0.5))\n",
    "model.add(Dense(50, activation='relu'))\n",
    "model.add(Dense(10, activation='relu'))\n",
    "model.add(Dense(1, activation='sigmoid'))\n",
    "model.compile(optimizer='adam',\n",
    "              loss='binary_crossentropy',\n",
    "              metrics=['accuracy'])\n",
    "\n",
    "history = model.fit_generator(generator=batch_generator(x_train_tfidf, y_train, 32),\n",
    "                    epochs=2, validation_data=(x_validation_tfidf, y_validation),\n",
    "                    steps_per_epoch=x_train_tfidf.shape[0]/32)\n"
   ]
  },
  {
   "cell_type": "code",
   "execution_count": 52,
   "metadata": {},
   "outputs": [
    {
     "data": {
      "text/plain": [
       "[<matplotlib.lines.Line2D at 0x7f2299136358>]"
      ]
     },
     "execution_count": 52,
     "metadata": {},
     "output_type": "execute_result"
    },
    {
     "data": {
      "image/png": "[encoded data removed]",
      "text/plain": [
       "<matplotlib.figure.Figure at 0x7f22afdbb2e8>"
      ]
     },
     "metadata": {},
     "output_type": "display_data"
    }
   ],
   "source": [
    "# plt.plot(history.history[\"loss\"], label = \"Train loss\")\n",
    "plt.plot(history.history[\"val_loss\"], label = \"Validation data loss\", color='red')"
   ]
  },
  {
   "cell_type": "code",
   "execution_count": 73,
   "metadata": {},
   "outputs": [],
   "source": [
    "# saving the model\n",
    "model.save('nn-model_2.h5')  # creates a HDF5 file 'my_model.h5'\n"
   ]
  },
  {
   "cell_type": "code",
   "execution_count": null,
   "metadata": {},
   "outputs": [],
   "source": [
    "# loading the model\n",
    "# model = load_model('nn-model.h5')"
   ]
  },
  {
   "cell_type": "code",
   "execution_count": 53,
   "metadata": {},
   "outputs": [
    {
     "name": "stdout",
     "output_type": "stream",
     "text": [
      "CPU times: user 13min 38s, sys: 2min 5s, total: 15min 44s\n",
      "Wall time: 10min 3s\n"
     ]
    },
    {
     "data": {
      "text/plain": [
       "[0.3468012510431968, 0.8617173709368069]"
      ]
     },
     "execution_count": 53,
     "metadata": {},
     "output_type": "execute_result"
    }
   ],
   "source": [
    "%%time\n",
    "model.evaluate_generator(generator=batch_generator(x_train_tfidf, y_train, 32),steps=x_train_tfidf.shape[0]/32, \n",
    "                         max_queue_size=10, workers=1, use_multiprocessing=False)\n",
    "# evaluate_generator(self, generator, steps=None, max_queue_size=10, workers=1, use_multiprocessing=False)\n",
    "\n",
    "\n"
   ]
  },
  {
   "cell_type": "markdown",
   "metadata": {},
   "source": [
    "## Prediction"
   ]
  },
  {
   "cell_type": "code",
   "execution_count": 54,
   "metadata": {},
   "outputs": [],
   "source": [
    "x_test_tfidf = tvec1.transform(x_test).toarray()"
   ]
  },
  {
   "cell_type": "code",
   "execution_count": 55,
   "metadata": {},
   "outputs": [],
   "source": [
    "# pred = model.predict_generator(generator=batch_generator(x_test_tfidf, y_test, 32),steps=x_test_tfidf.shape[0]/32, max_queue_size=10, \n",
    "#                                workers=1, use_multiprocessing=False, verbose=1)"
   ]
  },
  {
   "cell_type": "code",
   "execution_count": 56,
   "metadata": {},
   "outputs": [
    {
     "name": "stdout",
     "output_type": "stream",
     "text": [
      "15967/15967 [==============================] - 8s 532us/step\n"
     ]
    }
   ],
   "source": [
    "pred = model.predict(x_test_tfidf, verbose=1)"
   ]
  },
  {
   "cell_type": "code",
   "execution_count": 57,
   "metadata": {},
   "outputs": [],
   "source": [
    "df_test_view = pd.DataFrame()\n",
    "df_test_view[\"Sentences\"] = x_test\n",
    "df_test_view[\"real-y-values\"] = y_test\n",
    "df_test_view[\"Predictions\"] = pred"
   ]
  },
  {
   "cell_type": "code",
   "execution_count": 58,
   "metadata": {},
   "outputs": [
    {
     "data": {
      "text/html": [
       "<div>\n",
       "<style scoped>\n",
       "    .dataframe tbody tr th:only-of-type {\n",
       "        vertical-align: middle;\n",
       "    }\n",
       "\n",
       "    .dataframe tbody tr th {\n",
       "        vertical-align: top;\n",
       "    }\n",
       "\n",
       "    .dataframe thead th {\n",
       "        text-align: right;\n",
       "    }\n",
       "</style>\n",
       "<table border=\"1\" class=\"dataframe\">\n",
       "  <thead>\n",
       "    <tr style=\"text-align: right;\">\n",
       "      <th></th>\n",
       "      <th>Sentences</th>\n",
       "      <th>real-y-values</th>\n",
       "      <th>Predictions</th>\n",
       "    </tr>\n",
       "  </thead>\n",
       "  <tbody>\n",
       "    <tr>\n",
       "      <th>1435744</th>\n",
       "      <td>well if you ever need ny tix we sell tix natio...</td>\n",
       "      <td>1</td>\n",
       "      <td>0.767916</td>\n",
       "    </tr>\n",
       "    <tr>\n",
       "      <th>1254910</th>\n",
       "      <td>whoohoo it going down you gotta check out it c...</td>\n",
       "      <td>1</td>\n",
       "      <td>0.906460</td>\n",
       "    </tr>\n",
       "    <tr>\n",
       "      <th>1510247</th>\n",
       "      <td>are you in seattle tomorrow if so let me know ...</td>\n",
       "      <td>1</td>\n",
       "      <td>0.912713</td>\n",
       "    </tr>\n",
       "    <tr>\n",
       "      <th>1395796</th>\n",
       "      <td>jade love the new photo gorgeous xxx</td>\n",
       "      <td>1</td>\n",
       "      <td>0.977026</td>\n",
       "    </tr>\n",
       "    <tr>\n",
       "      <th>969040</th>\n",
       "      <td>had the mother of all hangovers today super ev...</td>\n",
       "      <td>1</td>\n",
       "      <td>0.815885</td>\n",
       "    </tr>\n",
       "    <tr>\n",
       "      <th>824449</th>\n",
       "      <td>shall go and shower now and then go and pick t...</td>\n",
       "      <td>1</td>\n",
       "      <td>0.874542</td>\n",
       "    </tr>\n",
       "    <tr>\n",
       "      <th>1429481</th>\n",
       "      <td>wrong seb but thanks none the less</td>\n",
       "      <td>1</td>\n",
       "      <td>0.756166</td>\n",
       "    </tr>\n",
       "    <tr>\n",
       "      <th>598043</th>\n",
       "      <td>missin my baby</td>\n",
       "      <td>0</td>\n",
       "      <td>0.034979</td>\n",
       "    </tr>\n",
       "    <tr>\n",
       "      <th>465417</th>\n",
       "      <td>oh really that dissapointing</td>\n",
       "      <td>0</td>\n",
       "      <td>0.167027</td>\n",
       "    </tr>\n",
       "    <tr>\n",
       "      <th>1425459</th>\n",
       "      <td>soon soon sure we ll get em</td>\n",
       "      <td>1</td>\n",
       "      <td>0.917928</td>\n",
       "    </tr>\n",
       "    <tr>\n",
       "      <th>664066</th>\n",
       "      <td>damn papa was not included in the sexy follow ...</td>\n",
       "      <td>0</td>\n",
       "      <td>0.246816</td>\n",
       "    </tr>\n",
       "    <tr>\n",
       "      <th>698842</th>\n",
       "      <td>now the visitors are getting here now</td>\n",
       "      <td>0</td>\n",
       "      <td>0.454442</td>\n",
       "    </tr>\n",
       "    <tr>\n",
       "      <th>204941</th>\n",
       "      <td>homework alllll dayy then the ballet then more...</td>\n",
       "      <td>0</td>\n",
       "      <td>0.357346</td>\n",
       "    </tr>\n",
       "    <tr>\n",
       "      <th>1349987</th>\n",
       "      <td>up to my eyeballs in paper shreds yay summer c...</td>\n",
       "      <td>1</td>\n",
       "      <td>0.489729</td>\n",
       "    </tr>\n",
       "    <tr>\n",
       "      <th>1459244</th>\n",
       "      <td>good morning lance how are you hope you are ha...</td>\n",
       "      <td>1</td>\n",
       "      <td>0.959980</td>\n",
       "    </tr>\n",
       "    <tr>\n",
       "      <th>1573286</th>\n",
       "      <td>night az sweet dreams talk to you later love ya</td>\n",
       "      <td>1</td>\n",
       "      <td>0.941846</td>\n",
       "    </tr>\n",
       "    <tr>\n",
       "      <th>1288541</th>\n",
       "      <td>it tuesday do not know why that particularly s...</td>\n",
       "      <td>1</td>\n",
       "      <td>0.351177</td>\n",
       "    </tr>\n",
       "    <tr>\n",
       "      <th>1249495</th>\n",
       "      <td>good roll this morning need to be more aggress...</td>\n",
       "      <td>1</td>\n",
       "      <td>0.744557</td>\n",
       "    </tr>\n",
       "    <tr>\n",
       "      <th>1302298</th>\n",
       "      <td>one more day to go and then starts the french ...</td>\n",
       "      <td>1</td>\n",
       "      <td>0.715772</td>\n",
       "    </tr>\n",
       "    <tr>\n",
       "      <th>1408024</th>\n",
       "      <td>totally awesome sir it shall be waiting for yo...</td>\n",
       "      <td>1</td>\n",
       "      <td>0.979000</td>\n",
       "    </tr>\n",
       "  </tbody>\n",
       "</table>\n",
       "</div>"
      ],
      "text/plain": [
       "                                                 Sentences  real-y-values  \\\n",
       "1435744  well if you ever need ny tix we sell tix natio...              1   \n",
       "1254910  whoohoo it going down you gotta check out it c...              1   \n",
       "1510247  are you in seattle tomorrow if so let me know ...              1   \n",
       "1395796               jade love the new photo gorgeous xxx              1   \n",
       "969040   had the mother of all hangovers today super ev...              1   \n",
       "824449   shall go and shower now and then go and pick t...              1   \n",
       "1429481                 wrong seb but thanks none the less              1   \n",
       "598043                                      missin my baby              0   \n",
       "465417                        oh really that dissapointing              0   \n",
       "1425459                        soon soon sure we ll get em              1   \n",
       "664066   damn papa was not included in the sexy follow ...              0   \n",
       "698842               now the visitors are getting here now              0   \n",
       "204941   homework alllll dayy then the ballet then more...              0   \n",
       "1349987  up to my eyeballs in paper shreds yay summer c...              1   \n",
       "1459244  good morning lance how are you hope you are ha...              1   \n",
       "1573286    night az sweet dreams talk to you later love ya              1   \n",
       "1288541  it tuesday do not know why that particularly s...              1   \n",
       "1249495  good roll this morning need to be more aggress...              1   \n",
       "1302298  one more day to go and then starts the french ...              1   \n",
       "1408024  totally awesome sir it shall be waiting for yo...              1   \n",
       "\n",
       "         Predictions  \n",
       "1435744     0.767916  \n",
       "1254910     0.906460  \n",
       "1510247     0.912713  \n",
       "1395796     0.977026  \n",
       "969040      0.815885  \n",
       "824449      0.874542  \n",
       "1429481     0.756166  \n",
       "598043      0.034979  \n",
       "465417      0.167027  \n",
       "1425459     0.917928  \n",
       "664066      0.246816  \n",
       "698842      0.454442  \n",
       "204941      0.357346  \n",
       "1349987     0.489729  \n",
       "1459244     0.959980  \n",
       "1573286     0.941846  \n",
       "1288541     0.351177  \n",
       "1249495     0.744557  \n",
       "1302298     0.715772  \n",
       "1408024     0.979000  "
      ]
     },
     "execution_count": 58,
     "metadata": {},
     "output_type": "execute_result"
    }
   ],
   "source": [
    "df_test_view.head(20)"
   ]
  },
  {
   "cell_type": "code",
   "execution_count": 59,
   "metadata": {},
   "outputs": [
    {
     "data": {
      "text/html": [
       "<div>\n",
       "<style scoped>\n",
       "    .dataframe tbody tr th:only-of-type {\n",
       "        vertical-align: middle;\n",
       "    }\n",
       "\n",
       "    .dataframe tbody tr th {\n",
       "        vertical-align: top;\n",
       "    }\n",
       "\n",
       "    .dataframe thead th {\n",
       "        text-align: right;\n",
       "    }\n",
       "</style>\n",
       "<table border=\"1\" class=\"dataframe\">\n",
       "  <thead>\n",
       "    <tr style=\"text-align: right;\">\n",
       "      <th></th>\n",
       "      <th>Sentences</th>\n",
       "      <th>real-y-values</th>\n",
       "      <th>Predictions</th>\n",
       "    </tr>\n",
       "  </thead>\n",
       "  <tbody>\n",
       "    <tr>\n",
       "      <th>598043</th>\n",
       "      <td>missin my baby</td>\n",
       "      <td>0</td>\n",
       "      <td>0.034979</td>\n",
       "    </tr>\n",
       "    <tr>\n",
       "      <th>465417</th>\n",
       "      <td>oh really that dissapointing</td>\n",
       "      <td>0</td>\n",
       "      <td>0.167027</td>\n",
       "    </tr>\n",
       "    <tr>\n",
       "      <th>664066</th>\n",
       "      <td>damn papa was not included in the sexy follow ...</td>\n",
       "      <td>0</td>\n",
       "      <td>0.246816</td>\n",
       "    </tr>\n",
       "    <tr>\n",
       "      <th>698842</th>\n",
       "      <td>now the visitors are getting here now</td>\n",
       "      <td>0</td>\n",
       "      <td>0.454442</td>\n",
       "    </tr>\n",
       "    <tr>\n",
       "      <th>204941</th>\n",
       "      <td>homework alllll dayy then the ballet then more...</td>\n",
       "      <td>0</td>\n",
       "      <td>0.357346</td>\n",
       "    </tr>\n",
       "    <tr>\n",
       "      <th>1349987</th>\n",
       "      <td>up to my eyeballs in paper shreds yay summer c...</td>\n",
       "      <td>1</td>\n",
       "      <td>0.489729</td>\n",
       "    </tr>\n",
       "    <tr>\n",
       "      <th>1288541</th>\n",
       "      <td>it tuesday do not know why that particularly s...</td>\n",
       "      <td>1</td>\n",
       "      <td>0.351177</td>\n",
       "    </tr>\n",
       "    <tr>\n",
       "      <th>716919</th>\n",
       "      <td>cant beileve they beat us</td>\n",
       "      <td>0</td>\n",
       "      <td>0.247331</td>\n",
       "    </tr>\n",
       "    <tr>\n",
       "      <th>791681</th>\n",
       "      <td>first time did not have time to finish the test</td>\n",
       "      <td>0</td>\n",
       "      <td>0.133875</td>\n",
       "    </tr>\n",
       "    <tr>\n",
       "      <th>384</th>\n",
       "      <td>pepperoni rolls in called valentino they said ...</td>\n",
       "      <td>0</td>\n",
       "      <td>0.204939</td>\n",
       "    </tr>\n",
       "  </tbody>\n",
       "</table>\n",
       "</div>"
      ],
      "text/plain": [
       "                                                 Sentences  real-y-values  \\\n",
       "598043                                      missin my baby              0   \n",
       "465417                        oh really that dissapointing              0   \n",
       "664066   damn papa was not included in the sexy follow ...              0   \n",
       "698842               now the visitors are getting here now              0   \n",
       "204941   homework alllll dayy then the ballet then more...              0   \n",
       "1349987  up to my eyeballs in paper shreds yay summer c...              1   \n",
       "1288541  it tuesday do not know why that particularly s...              1   \n",
       "716919                           cant beileve they beat us              0   \n",
       "791681     first time did not have time to finish the test              0   \n",
       "384      pepperoni rolls in called valentino they said ...              0   \n",
       "\n",
       "         Predictions  \n",
       "598043      0.034979  \n",
       "465417      0.167027  \n",
       "664066      0.246816  \n",
       "698842      0.454442  \n",
       "204941      0.357346  \n",
       "1349987     0.489729  \n",
       "1288541     0.351177  \n",
       "716919      0.247331  \n",
       "791681      0.133875  \n",
       "384         0.204939  "
      ]
     },
     "execution_count": 59,
     "metadata": {},
     "output_type": "execute_result"
    }
   ],
   "source": [
    "df_test_view[df_test_view[\"Predictions\"] < 0.5].head(10)"
   ]
  },
  {
   "cell_type": "code",
   "execution_count": 60,
   "metadata": {},
   "outputs": [
    {
     "data": {
      "text/html": [
       "<div>\n",
       "<style scoped>\n",
       "    .dataframe tbody tr th:only-of-type {\n",
       "        vertical-align: middle;\n",
       "    }\n",
       "\n",
       "    .dataframe tbody tr th {\n",
       "        vertical-align: top;\n",
       "    }\n",
       "\n",
       "    .dataframe thead th {\n",
       "        text-align: right;\n",
       "    }\n",
       "</style>\n",
       "<table border=\"1\" class=\"dataframe\">\n",
       "  <thead>\n",
       "    <tr style=\"text-align: right;\">\n",
       "      <th></th>\n",
       "      <th>Sentences</th>\n",
       "      <th>real-y-values</th>\n",
       "      <th>Predictions</th>\n",
       "    </tr>\n",
       "  </thead>\n",
       "  <tbody>\n",
       "    <tr>\n",
       "      <th>1435744</th>\n",
       "      <td>well if you ever need ny tix we sell tix natio...</td>\n",
       "      <td>1</td>\n",
       "      <td>0.767916</td>\n",
       "    </tr>\n",
       "    <tr>\n",
       "      <th>1254910</th>\n",
       "      <td>whoohoo it going down you gotta check out it c...</td>\n",
       "      <td>1</td>\n",
       "      <td>0.906460</td>\n",
       "    </tr>\n",
       "    <tr>\n",
       "      <th>1510247</th>\n",
       "      <td>are you in seattle tomorrow if so let me know ...</td>\n",
       "      <td>1</td>\n",
       "      <td>0.912713</td>\n",
       "    </tr>\n",
       "    <tr>\n",
       "      <th>1395796</th>\n",
       "      <td>jade love the new photo gorgeous xxx</td>\n",
       "      <td>1</td>\n",
       "      <td>0.977026</td>\n",
       "    </tr>\n",
       "    <tr>\n",
       "      <th>969040</th>\n",
       "      <td>had the mother of all hangovers today super ev...</td>\n",
       "      <td>1</td>\n",
       "      <td>0.815885</td>\n",
       "    </tr>\n",
       "    <tr>\n",
       "      <th>824449</th>\n",
       "      <td>shall go and shower now and then go and pick t...</td>\n",
       "      <td>1</td>\n",
       "      <td>0.874542</td>\n",
       "    </tr>\n",
       "    <tr>\n",
       "      <th>1429481</th>\n",
       "      <td>wrong seb but thanks none the less</td>\n",
       "      <td>1</td>\n",
       "      <td>0.756166</td>\n",
       "    </tr>\n",
       "    <tr>\n",
       "      <th>1425459</th>\n",
       "      <td>soon soon sure we ll get em</td>\n",
       "      <td>1</td>\n",
       "      <td>0.917928</td>\n",
       "    </tr>\n",
       "    <tr>\n",
       "      <th>1459244</th>\n",
       "      <td>good morning lance how are you hope you are ha...</td>\n",
       "      <td>1</td>\n",
       "      <td>0.959980</td>\n",
       "    </tr>\n",
       "    <tr>\n",
       "      <th>1573286</th>\n",
       "      <td>night az sweet dreams talk to you later love ya</td>\n",
       "      <td>1</td>\n",
       "      <td>0.941846</td>\n",
       "    </tr>\n",
       "  </tbody>\n",
       "</table>\n",
       "</div>"
      ],
      "text/plain": [
       "                                                 Sentences  real-y-values  \\\n",
       "1435744  well if you ever need ny tix we sell tix natio...              1   \n",
       "1254910  whoohoo it going down you gotta check out it c...              1   \n",
       "1510247  are you in seattle tomorrow if so let me know ...              1   \n",
       "1395796               jade love the new photo gorgeous xxx              1   \n",
       "969040   had the mother of all hangovers today super ev...              1   \n",
       "824449   shall go and shower now and then go and pick t...              1   \n",
       "1429481                 wrong seb but thanks none the less              1   \n",
       "1425459                        soon soon sure we ll get em              1   \n",
       "1459244  good morning lance how are you hope you are ha...              1   \n",
       "1573286    night az sweet dreams talk to you later love ya              1   \n",
       "\n",
       "         Predictions  \n",
       "1435744     0.767916  \n",
       "1254910     0.906460  \n",
       "1510247     0.912713  \n",
       "1395796     0.977026  \n",
       "969040      0.815885  \n",
       "824449      0.874542  \n",
       "1429481     0.756166  \n",
       "1425459     0.917928  \n",
       "1459244     0.959980  \n",
       "1573286     0.941846  "
      ]
     },
     "execution_count": 60,
     "metadata": {},
     "output_type": "execute_result"
    }
   ],
   "source": [
    "df_test_view[df_test_view[\"Predictions\"] > 0.5].head(10)"
   ]
  },
  {
   "cell_type": "markdown",
   "metadata": {
    "colab": {
     "autoexec": {
      "startup": false,
      "wait_interval": 0
     }
    },
    "colab_type": "code",
    "id": "KBmeJrfgNx0O"
   },
   "source": [
    "## TEST"
   ]
  },
  {
   "cell_type": "code",
   "execution_count": 80,
   "metadata": {},
   "outputs": [],
   "source": [
    "docs = [\"I will not be able to come for your party, sorry\"]"
   ]
  },
  {
   "cell_type": "code",
   "execution_count": 81,
   "metadata": {},
   "outputs": [],
   "source": [
    "\n",
    "tok = WordPunctTokenizer()\n",
    "\n",
    "mention1 = r'@[A-Za-z0-9]+'\n",
    "mention2 = r'https?://[^ ]+'\n",
    "combined_pat = r'|'.join((mention1, mention2))\n",
    "www_pat = r'www.[^ ]+\\.[^ ]+'\n",
    "negations_dic = {\"don't\":\"do not\", \"doesn't\":\"does not\",\"didn't\":\"did not\",\n",
    "                \"can't\":\"can not\",\"couldn't\":\"could not\",\"shouldn't\":\"should not\",\"mightn't\":\"might not\",\n",
    "                \"mustn't\":\"must not\", \"wasn't\":\"was not\", \"weren't\":\"were not\", \"isn't\":\"is not\", \"aren't\":\"are not\", \n",
    "                \"haven't\":\"have not\",\"hasn't\":\"has not\",\"hadn't\":\"had not\",\"won't\":\"will not\",\n",
    "                \"wouldn't\":\"would not\", }\n",
    "neg_pattern = re.compile(r'\\b(' + '|'.join(negations_dic.keys()) + r')\\b')\n",
    "combined_pattern = re.compile(combined_pat)\n",
    "www_pattern = re.compile(www_pat)\n",
    "letters_pattern = re.compile(\"[^a-zA-Z]\")"
   ]
  },
  {
   "cell_type": "code",
   "execution_count": 82,
   "metadata": {},
   "outputs": [],
   "source": [
    "def clean_sentence(lower, higher, texts):\n",
    "  \n",
    "  results = []\n",
    "  start_time = time.time()\n",
    "  \n",
    "  for i in range(lower, higher):\n",
    "    \n",
    "    if (i - lower + 1) % 100000 == 0:\n",
    "      end_time = time.time() - start_time\n",
    "      print(i - lower + 1, \"Sentences cleaned , time in seconds:\", end_time)\n",
    "      start_time = time.time()\n",
    "    text = texts[i]\n",
    "    html_unescaped = html.unescape(text)\n",
    "    try:\n",
    "        bom_removed = html_unescaped.decode(\"utf-8-sig\").replace(u\"\\ufffd\", \"?\")\n",
    "    except:\n",
    "        bom_removed = html_unescaped\n",
    "    stripped = combined_pattern.sub('', bom_removed)\n",
    "    stripped = www_pattern.sub('', stripped)\n",
    "    lower_case = stripped.lower()\n",
    "    words = [negations_dic[x] if x in negations_dic else x for x in lower_case.split(' ')]\n",
    "    neg_handled = \" \".join(words).strip()\n",
    "    letters_only = letters_pattern.sub(\" \", neg_handled)\n",
    "    words = [x for x  in tok.tokenize(letters_only) if len(x) > 1]\n",
    "    results.append(\" \".join(words).strip())\n",
    "    \n",
    "  return results"
   ]
  },
  {
   "cell_type": "code",
   "execution_count": 83,
   "metadata": {},
   "outputs": [
    {
     "name": "stdout",
     "output_type": "stream",
     "text": [
      "Sentence Cleaning........\n",
      "\n",
      "\n",
      "Sentence Cleaning Completed........\n",
      "\n"
     ]
    }
   ],
   "source": [
    "print(\"Sentence Cleaning........\\n\")\n",
    "# clean_Sentences_test = []\n",
    "# clean_Sentences_test.extend(clean_sentence(0, len(docs), docs))\n",
    "clean_doc = clean_sentence(0, len(docs), docs)\n",
    "print(\"\\nSentence Cleaning Completed........\\n\")"
   ]
  },
  {
   "cell_type": "code",
   "execution_count": 84,
   "metadata": {},
   "outputs": [
    {
     "data": {
      "text/plain": [
       "['will not be able to come for your party sorry']"
      ]
     },
     "execution_count": 84,
     "metadata": {},
     "output_type": "execute_result"
    }
   ],
   "source": [
    "clean_doc"
   ]
  },
  {
   "cell_type": "code",
   "execution_count": 85,
   "metadata": {},
   "outputs": [],
   "source": [
    "# #load the content\n",
    "tfidf = pickle.load(open(\"tfidf_result_2.pkl\", \"rb\" ) )"
   ]
  },
  {
   "cell_type": "code",
   "execution_count": 88,
   "metadata": {},
   "outputs": [],
   "source": [
    "pred_sentence = tfidf.transform(clean_doc).toarray()\n",
    "# pred_sentence = tfidf.transform(clean_doc).toarray()\n"
   ]
  },
  {
   "cell_type": "code",
   "execution_count": 89,
   "metadata": {},
   "outputs": [
    {
     "data": {
      "text/plain": [
       "(1, 100000)"
      ]
     },
     "execution_count": 89,
     "metadata": {},
     "output_type": "execute_result"
    }
   ],
   "source": [
    "pred_sentence.shape"
   ]
  },
  {
   "cell_type": "code",
   "execution_count": 90,
   "metadata": {},
   "outputs": [],
   "source": [
    "# # loading the modelfrom keras.models import load_model\n",
    "model1 = load_model('nn-model_2.h5')"
   ]
  },
  {
   "cell_type": "code",
   "execution_count": 91,
   "metadata": {},
   "outputs": [
    {
     "name": "stdout",
     "output_type": "stream",
     "text": [
      "\r",
      "1/1 [==============================] - 0s 43ms/step\n"
     ]
    }
   ],
   "source": [
    "pred = model1.predict(pred_sentence, verbose=1)"
   ]
  },
  {
   "cell_type": "code",
   "execution_count": 92,
   "metadata": {},
   "outputs": [
    {
     "data": {
      "text/plain": [
       "array([[0.14490604]], dtype=float32)"
      ]
     },
     "execution_count": 92,
     "metadata": {},
     "output_type": "execute_result"
    }
   ],
   "source": [
    "pred"
   ]
  },
  {
   "cell_type": "markdown",
   "metadata": {},
   "source": [
    "Reading links : \n",
    "\n",
    "1. https://nlp.stanford.edu/projects/glove/\n"
   ]
  },
  {
   "cell_type": "code",
   "execution_count": null,
   "metadata": {},
   "outputs": [],
   "source": []
  }
 ],
 "metadata": {
  "accelerator": "GPU",
  "colab": {
   "collapsed_sections": [],
   "default_view": {},
   "name": "DonnaAlex_capstone-3.ipynb",
   "provenance": [],
   "version": "0.3.2",
   "views": {}
  },
  "kernelspec": {
   "display_name": "Python 3",
   "language": "python",
   "name": "python3"
  },
  "language_info": {
   "codemirror_mode": {
    "name": "ipython",
    "version": 3
   },
   "file_extension": ".py",
   "mimetype": "text/x-python",
   "name": "python",
   "nbconvert_exporter": "python",
   "pygments_lexer": "ipython3",
   "version": "3.6.4"
  }
 },
 "nbformat": 4,
 "nbformat_minor": 1
}
